{
 "cells": [
  {
   "cell_type": "code",
   "execution_count": 2,
   "metadata": {},
   "outputs": [],
   "source": [
    "def check(abbra=1, abra=2, abrra=3):\n",
    "    return abbra, abra, abrra"
   ]
  },
  {
   "cell_type": "code",
   "execution_count": 1,
   "metadata": {},
   "outputs": [
    {
     "name": "stdout",
     "output_type": "stream",
     "text": [
      "2333316668\n"
     ]
    }
   ],
   "source": [
    "#sum from 0 to 99,999 that are multiples of 3 or 5:\n",
    "sum = 0\n",
    "for i in range(100000):\n",
    "    if (i%3 == 0) or (i%5 ==0):\n",
    "        sum += i \n",
    "print(sum)"
   ]
  },
  {
   "cell_type": "code",
   "execution_count": 5,
   "metadata": {},
   "outputs": [
    {
     "name": "stdout",
     "output_type": "stream",
     "text": [
      "(1, 2, 3)\n",
      "(4, 5, 6)\n",
      "(7, 8, 9)\n"
     ]
    }
   ],
   "source": [
    "tuple = (1,2,3), (4,5,6) ,(7,8,9)\n",
    "\n",
    "for a in tuple:\n",
    "    print(a)"
   ]
  },
  {
   "cell_type": "code",
   "execution_count": 18,
   "metadata": {},
   "outputs": [
    {
     "data": {
      "text/plain": [
       "True"
      ]
     },
     "execution_count": 18,
     "metadata": {},
     "output_type": "execute_result"
    }
   ],
   "source": [
    "def isiter(obj):\n",
    "    try:\n",
    "        iter(obj)\n",
    "        return True\n",
    "    except TypeError:\n",
    "        return False\n",
    " \n",
    "a = [6,7]\n",
    "isiter(a)        \n"
   ]
  },
  {
   "cell_type": "code",
   "execution_count": 35,
   "metadata": {},
   "outputs": [
    {
     "name": "stdout",
     "output_type": "stream",
     "text": [
      "this is a long string\n"
     ]
    },
    {
     "data": {
      "text/plain": [
       "bytes"
      ]
     },
     "execution_count": 35,
     "metadata": {},
     "output_type": "execute_result"
    }
   ],
   "source": [
    "b = 3,4\n",
    "if not isinstance(b, type(b)) and isiter(b):\n",
    "    print('yes')\n",
    "\n",
    "c = 'this is a string'\n",
    "\n",
    "c= c.replace('string', 'long string')\n",
    "\n",
    "print(c)\n",
    "\n",
    "d=c.encode('utf-8')\n",
    "\n",
    "type(d)"
   ]
  },
  {
   "cell_type": "code",
   "execution_count": 51,
   "metadata": {},
   "outputs": [
    {
     "name": "stdout",
     "output_type": "stream",
     "text": [
      "0,2\n",
      "1,5\n",
      "2,6\n",
      "3,8\n",
      "4,None\n",
      "5,10\n",
      "6,None\n"
     ]
    }
   ],
   "source": [
    "class sum():\n",
    "    def add(self, a, b):\n",
    "        return a+b\n",
    "        \n",
    "\n",
    "df = sum()\n",
    "df.add(4,5)\n",
    "\n",
    "list = [2, 5, 6, 8, None, 10, None]\n",
    "sum = 0\n",
    "\n",
    "for i, value in enumerate(list):\n",
    "    print(str(i) +',' + str(value))"
   ]
  },
  {
   "cell_type": "code",
   "execution_count": 2,
   "metadata": {},
   "outputs": [
    {
     "name": "stdout",
     "output_type": "stream",
     "text": [
      "{'a': ['apple', 'atom'], 'b': ['bat', 'bar', 'book']}\n"
     ]
    },
    {
     "data": {
      "text/plain": [
       "2"
      ]
     },
     "execution_count": 2,
     "metadata": {},
     "output_type": "execute_result"
    }
   ],
   "source": [
    "words = ['apple', 'bat', 'bar', 'atom', 'book']\n",
    "\n",
    "dict = {}\n",
    "for word in words:\n",
    "    if word[0] in dict:\n",
    "        dict[word[0]].append(word)\n",
    "    else:\n",
    "        dict[word[0]] = [word]\n",
    "print(dict)\n",
    "\n"
   ]
  },
  {
   "cell_type": "code",
   "execution_count": 10,
   "metadata": {},
   "outputs": [
    {
     "name": "stdout",
     "output_type": "stream",
     "text": [
      "[0, 1, 2, 3, 4]\n"
     ]
    }
   ],
   "source": [
    "names = [['John', 'Emily', 'Michael', 'Mary', 'Steven'], ['Maria', 'Juan', 'Javier', 'Natalia', 'Pilar']]\n",
    "\n",
    "new = []\n",
    "\n",
    "for list in names:\n",
    "    for i in list:\n",
    "        if i.count('e') >= 2:\n",
    "            new.append(i)\n",
    "new\n",
    "a=[]\n",
    "def func():\n",
    "    \n",
    "    for i in range(5):\n",
    "        a.append(i)\n",
    "        \n",
    "func()\n",
    "print(a)"
   ]
  },
  {
   "cell_type": "code",
   "execution_count": 21,
   "metadata": {},
   "outputs": [
    {
     "name": "stdout",
     "output_type": "stream",
     "text": [
      "[]\n",
      "None\n",
      "['a', 'fo', 'ab', 'abr', 'acdr']\n"
     ]
    }
   ],
   "source": [
    "b=None\n",
    "def bind():\n",
    "    global b\n",
    "    b = []\n",
    "bind()\n",
    "print(b)\n",
    "\n",
    "strings = ['foo', 'card', 'bar', 'aaaa', 'abab']\n",
    "update = []\n",
    "for i in strings:\n",
    "    temp = set(i)\n",
    "    \n",
    "    update.append(''.join(str(j) for j in temp))\n",
    "\n",
    "print(update.sort(key=len))\n",
    "\n",
    "print(update)"
   ]
  },
  {
   "cell_type": "code",
   "execution_count": 21,
   "metadata": {},
   "outputs": [
    {
     "data": {
      "text/plain": [
       "15"
      ]
     },
     "execution_count": 21,
     "metadata": {},
     "output_type": "execute_result"
    }
   ],
   "source": [
    "strings = ['foo', 'card', 'bar', 'aaaa', 'abab']\n",
    "\n",
    "\n",
    "strings.sort(key=lambda x: len(set(x)))\n",
    "\n",
    "(lambda y: y*3)(5)\n"
   ]
  },
  {
   "cell_type": "code",
   "execution_count": 29,
   "metadata": {},
   "outputs": [
    {
     "data": {
      "text/plain": [
       "array([ True,  True, False,  True])"
      ]
     },
     "execution_count": 29,
     "metadata": {},
     "output_type": "execute_result"
    }
   ],
   "source": [
    "import numpy as np\n",
    "\n",
    "new_array = np.array([[1, 0, 0],\n",
    "[4, 0, 0],\n",
    "[7, 8, 9]])\n",
    "\n",
    "new_array[2, :].shape\n",
    "\n",
    "sample = np.empty((8, 4))\n",
    "\n",
    "sample\n",
    "arr1 = [1, 3, False, 4] \n",
    "arr2 = [3, 0, False, False]\n",
    "\n",
    "np.logical_or(arr1, arr2)"
   ]
  },
  {
   "cell_type": "code",
   "execution_count": 40,
   "metadata": {},
   "outputs": [
    {
     "data": {
      "text/plain": [
       "[1.1, 2.2, 1.3, 1.4, 2.5]"
      ]
     },
     "execution_count": 40,
     "metadata": {},
     "output_type": "execute_result"
    }
   ],
   "source": [
    "\n",
    "xarr = np.array([1.1, 1.2, 1.3, 1.4, 1.5])\n",
    "yarr = np.array([2.1, 2.2, 2.3, 2.4, 2.5])\n",
    "cond = np.array([True, False, True, True, False])\n",
    "\n",
    "zarr = []\n",
    "\n",
    "for x, y, z in zip (xarr, yarr, cond):\n",
    "    if z == True:\n",
    "        zarr.append(x)\n",
    "    elif z== False:\n",
    "        zarr.append(y)\n",
    "zarr\n",
    "\n"
   ]
  },
  {
   "cell_type": "code",
   "execution_count": 10,
   "metadata": {},
   "outputs": [
    {
     "name": "stdout",
     "output_type": "stream",
     "text": [
      "Valid Number\n"
     ]
    }
   ],
   "source": [
    "import re\n",
    "s = '0940174726'\n",
    "def isValid(s):\n",
    "    Pattern = re.compile(\"(7/8/9)?[0-9]{9}\") \n",
    "    return Pattern.match(s)\n",
    "\n",
    "if (isValid(s)):  \n",
    "    print (\"Valid Number\")      \n",
    "else : \n",
    "    print (\"Invalid Number\") "
   ]
  },
  {
   "cell_type": "code",
   "execution_count": 3,
   "metadata": {},
   "outputs": [
    {
     "name": "stdout",
     "output_type": "stream",
     "text": [
      "2\n",
      "9940174726\n",
      "YES\n",
      "8928224991\n",
      "YES\n"
     ]
    }
   ],
   "source": [
    "n= int(input())\n",
    "\n",
    "if n>0 and n<=10:\n",
    "    for i in range(n):\n",
    "        number = int(input())\n",
    "        if len(list(str(number))) == 10:\n",
    "            if number>6999999999 and number<10000000000:\n",
    "                print(\"YES\")\n",
    "            else:\n",
    "                print(\"NO\")"
   ]
  },
  {
   "cell_type": "code",
   "execution_count": 7,
   "metadata": {},
   "outputs": [
    {
     "name": "stdout",
     "output_type": "stream",
     "text": [
      "2\n",
      "7000000000\n",
      "YES\n",
      "3\n",
      "NO\n"
     ]
    }
   ],
   "source": [
    "import re\n",
    "for _ in range(int(input())):\n",
    "    line = input()\n",
    "    if re.match(r\"^[789]{1}\\d{9}$\", line):\n",
    "        print(\"YES\")\n",
    "    else:\n",
    "        print(\"NO\")"
   ]
  },
  {
   "cell_type": "code",
   "execution_count": 25,
   "metadata": {},
   "outputs": [
    {
     "data": {
      "text/plain": [
       "[<matplotlib.lines.Line2D at 0x27cfee8af48>]"
      ]
     },
     "execution_count": 25,
     "metadata": {},
     "output_type": "execute_result"
    },
    {
     "data": {
      "image/png": "[encoded data removed]",
      "text/plain": [
       "<Figure size 432x288 with 1 Axes>"
      ]
     },
     "metadata": {
      "needs_background": "light"
     },
     "output_type": "display_data"
    }
   ],
   "source": [
    "import random\n",
    "import numpy as np\n",
    "from matplotlib import pyplot as plt\n",
    "\n",
    "start = 0\n",
    "walk = [start]\n",
    "for i in range(1000):\n",
    "    if np.random.randint(0, 2):\n",
    "        step = 1\n",
    "    else:\n",
    "        step = -1\n",
    "    start += step\n",
    "    if start<0:\n",
    "        start = 0\n",
    "\n",
    "    walk.append(start)\n",
    "    \n",
    "plt.plot(walk[1:200])"
   ]
  },
  {
   "cell_type": "code",
   "execution_count": 39,
   "metadata": {},
   "outputs": [
    {
     "data": {
      "text/plain": [
       "3402"
      ]
     },
     "execution_count": 39,
     "metadata": {},
     "output_type": "execute_result"
    }
   ],
   "source": [
    "sample = np.random.randint(0, 2, size=(5000, 1000))\n",
    "\n",
    "steps = np.where(sample>0, 1, -1)\n",
    "\n",
    "final = steps.cumsum(1)\n",
    "final.max()\n",
    "\n",
    "where30 = (np.abs(final)>=30).any(1)\n",
    "where30.sum()"
   ]
  },
  {
   "cell_type": "code",
   "execution_count": 8,
   "metadata": {},
   "outputs": [
    {
     "name": "stdout",
     "output_type": "stream",
     "text": [
      "Dr.Brooks\n",
      "Dr.Collins-Thompson\n",
      "Dr.Vydiswaran\n",
      "Dr.Romero\n"
     ]
    }
   ],
   "source": [
    "people = ['Dr. Christopher Brooks', 'Dr. Kevyn Collins-Thompson', 'Dr. VG Vinod Vydiswaran', 'Dr. Daniel Romero']\n",
    "\n",
    "def split_title_and_name(person):\n",
    "    return person.split(' ')[0] + person.split(' ')[-1]\n",
    "  \n",
    "\n",
    "#list(map(split_title_and_name, people))\n",
    "\n",
    "\n",
    "for person in people:\n",
    "    #print(split_title_and_name(person))\n",
    "    \n",
    "    print((lambda person: person.split(' ')[0] + person.split(' ')[-1])(person))\n",
    "    "
   ]
  },
  {
   "cell_type": "code",
   "execution_count": 21,
   "metadata": {},
   "outputs": [
    {
     "data": {
      "text/plain": [
       "67600"
      ]
     },
     "execution_count": 21,
     "metadata": {},
     "output_type": "execute_result"
    }
   ],
   "source": [
    "lowercase = 'abcdefghijklmnopqrstuvwxyz'\n",
    "digits = '0123456789'\n",
    "\n",
    "answer = []\n",
    "\n",
    "num = []\n",
    "final = []\n",
    "\n",
    "for i in lowercase:\n",
    "    for j in lowercase:\n",
    "        letter = (i+j)\n",
    "        answer.append(letter)\n",
    "        \n",
    "for i in digits:\n",
    "    for j in digits:\n",
    "        digit = i+j\n",
    "        num.append(digit)\n",
    "\n",
    "for ans in answer:\n",
    "    for value in num:\n",
    "        final.append(ans+value)\n",
    "        \n",
    "#len(final)\n",
    "\n",
    "new = [ans+num for ans in [i+j for i in lowercase for j in lowercase] for num in [i+j for i in digits for j in digits]]\n",
    "\n",
    "len(new)"
   ]
  },
  {
   "cell_type": "code",
   "execution_count": 29,
   "metadata": {},
   "outputs": [
    {
     "data": {
      "text/plain": [
       "array([ 0,  7, 14, 21, 28, 35])"
      ]
     },
     "execution_count": 29,
     "metadata": {},
     "output_type": "execute_result"
    }
   ],
   "source": [
    "import numpy as np\n",
    "list= ['a','b','c'] + [1,2,3]\n",
    "list\n",
    "\n",
    "array = np.arange(36).reshape(6,6)\n",
    "array.reshape(36)[::7]"
   ]
  },
  {
   "cell_type": "code",
   "execution_count": 21,
   "metadata": {},
   "outputs": [
    {
     "data": {
      "text/html": [
       "<div>\n",
       "<style scoped>\n",
       "    .dataframe tbody tr th:only-of-type {\n",
       "        vertical-align: middle;\n",
       "    }\n",
       "\n",
       "    .dataframe tbody tr th {\n",
       "        vertical-align: top;\n",
       "    }\n",
       "\n",
       "    .dataframe thead th {\n",
       "        text-align: right;\n",
       "    }\n",
       "</style>\n",
       "<table border=\"1\" class=\"dataframe\">\n",
       "  <thead>\n",
       "    <tr style=\"text-align: right;\">\n",
       "      <th></th>\n",
       "      <th>Month</th>\n",
       "      <th>Day</th>\n",
       "      <th>Title</th>\n",
       "      <th>Studio</th>\n",
       "      <th>Cast and crew</th>\n",
       "      <th>Ref</th>\n",
       "    </tr>\n",
       "  </thead>\n",
       "  <tbody>\n",
       "    <tr>\n",
       "      <td>0</td>\n",
       "      <td>JANUARY</td>\n",
       "      <td>5</td>\n",
       "      <td>Insidious: The Last Key</td>\n",
       "      <td>Universal Pictures / Blumhouse Productions</td>\n",
       "      <td>Adam Robitel (director); Leigh Whannell (scree...</td>\n",
       "      <td>[44]</td>\n",
       "    </tr>\n",
       "    <tr>\n",
       "      <td>1</td>\n",
       "      <td>JANUARY</td>\n",
       "      <td>5</td>\n",
       "      <td>The Strange Ones</td>\n",
       "      <td>Vertical Entertainment</td>\n",
       "      <td>Lauren Wolkstein (director); Christopher Radcl...</td>\n",
       "      <td>[45]</td>\n",
       "    </tr>\n",
       "    <tr>\n",
       "      <td>2</td>\n",
       "      <td>JANUARY</td>\n",
       "      <td>5</td>\n",
       "      <td>Stratton</td>\n",
       "      <td>Momentum Pictures</td>\n",
       "      <td>Simon West (director); Duncan Falconer, Warren...</td>\n",
       "      <td>[46]</td>\n",
       "    </tr>\n",
       "    <tr>\n",
       "      <td>3</td>\n",
       "      <td>JANUARY</td>\n",
       "      <td>10</td>\n",
       "      <td>Sweet Country</td>\n",
       "      <td>Samuel Goldwyn Films</td>\n",
       "      <td>Warwick Thornton (director); David Tranter, St...</td>\n",
       "      <td>[47]</td>\n",
       "    </tr>\n",
       "    <tr>\n",
       "      <td>4</td>\n",
       "      <td>JANUARY</td>\n",
       "      <td>12</td>\n",
       "      <td>The Commuter</td>\n",
       "      <td>Lionsgate / StudioCanal / The Picture Company</td>\n",
       "      <td>Jaume Collet-Serra (director); Byron Willinger...</td>\n",
       "      <td>[48]</td>\n",
       "    </tr>\n",
       "    <tr>\n",
       "      <td>...</td>\n",
       "      <td>...</td>\n",
       "      <td>...</td>\n",
       "      <td>...</td>\n",
       "      <td>...</td>\n",
       "      <td>...</td>\n",
       "      <td>...</td>\n",
       "    </tr>\n",
       "    <tr>\n",
       "      <td>69</td>\n",
       "      <td>MARCH</td>\n",
       "      <td>29</td>\n",
       "      <td>Ready Player One</td>\n",
       "      <td>Warner Bros. Pictures / Village Roadshow Pictu...</td>\n",
       "      <td>Steven Spielberg (director); Ernest Cline, Zak...</td>\n",
       "      <td>[113]</td>\n",
       "    </tr>\n",
       "    <tr>\n",
       "      <td>70</td>\n",
       "      <td>MARCH</td>\n",
       "      <td>30</td>\n",
       "      <td>Tyler Perry's Acrimony</td>\n",
       "      <td>Lionsgate / Tyler Perry Films</td>\n",
       "      <td>Tyler Perry (director/screenplay); Taraji P. H...</td>\n",
       "      <td>[114]</td>\n",
       "    </tr>\n",
       "    <tr>\n",
       "      <td>71</td>\n",
       "      <td>MARCH</td>\n",
       "      <td>30</td>\n",
       "      <td>God's Not Dead: A Light in Darkness</td>\n",
       "      <td>Pure Flix</td>\n",
       "      <td>Michael Mason (director/screenplay); David A. ...</td>\n",
       "      <td>[115]</td>\n",
       "    </tr>\n",
       "    <tr>\n",
       "      <td>72</td>\n",
       "      <td>MARCH</td>\n",
       "      <td>30</td>\n",
       "      <td>Gemini</td>\n",
       "      <td>Neon</td>\n",
       "      <td>Aaron Katz (director/screenplay); Lola Kirke, ...</td>\n",
       "      <td>[116]</td>\n",
       "    </tr>\n",
       "    <tr>\n",
       "      <td>73</td>\n",
       "      <td>MARCH</td>\n",
       "      <td>30</td>\n",
       "      <td>The Last Movie Star</td>\n",
       "      <td>A24</td>\n",
       "      <td>Adam Rifkin (director/screenplay); Burt Reynol...</td>\n",
       "      <td>[117]</td>\n",
       "    </tr>\n",
       "  </tbody>\n",
       "</table>\n",
       "<p>74 rows × 6 columns</p>\n",
       "</div>"
      ],
      "text/plain": [
       "      Month  Day                                Title  \\\n",
       "0   JANUARY    5              Insidious: The Last Key   \n",
       "1   JANUARY    5                     The Strange Ones   \n",
       "2   JANUARY    5                             Stratton   \n",
       "3   JANUARY   10                        Sweet Country   \n",
       "4   JANUARY   12                         The Commuter   \n",
       "..      ...  ...                                  ...   \n",
       "69    MARCH   29                     Ready Player One   \n",
       "70    MARCH   30               Tyler Perry's Acrimony   \n",
       "71    MARCH   30  God's Not Dead: A Light in Darkness   \n",
       "72    MARCH   30                               Gemini   \n",
       "73    MARCH   30                  The Last Movie Star   \n",
       "\n",
       "                                               Studio  \\\n",
       "0          Universal Pictures / Blumhouse Productions   \n",
       "1                              Vertical Entertainment   \n",
       "2                                   Momentum Pictures   \n",
       "3                                Samuel Goldwyn Films   \n",
       "4       Lionsgate / StudioCanal / The Picture Company   \n",
       "..                                                ...   \n",
       "69  Warner Bros. Pictures / Village Roadshow Pictu...   \n",
       "70                      Lionsgate / Tyler Perry Films   \n",
       "71                                          Pure Flix   \n",
       "72                                               Neon   \n",
       "73                                                A24   \n",
       "\n",
       "                                        Cast and crew    Ref  \n",
       "0   Adam Robitel (director); Leigh Whannell (scree...   [44]  \n",
       "1   Lauren Wolkstein (director); Christopher Radcl...   [45]  \n",
       "2   Simon West (director); Duncan Falconer, Warren...   [46]  \n",
       "3   Warwick Thornton (director); David Tranter, St...   [47]  \n",
       "4   Jaume Collet-Serra (director); Byron Willinger...   [48]  \n",
       "..                                                ...    ...  \n",
       "69  Steven Spielberg (director); Ernest Cline, Zak...  [113]  \n",
       "70  Tyler Perry (director/screenplay); Taraji P. H...  [114]  \n",
       "71  Michael Mason (director/screenplay); David A. ...  [115]  \n",
       "72  Aaron Katz (director/screenplay); Lola Kirke, ...  [116]  \n",
       "73  Adam Rifkin (director/screenplay); Burt Reynol...  [117]  \n",
       "\n",
       "[74 rows x 6 columns]"
      ]
     },
     "execution_count": 21,
     "metadata": {},
     "output_type": "execute_result"
    }
   ],
   "source": [
    "import pandas as pd\n",
    "\n",
    "link = \"https://en.wikipedia.org/wiki/2018_in_film\"\n",
    "tables = pd.read_html(link)\n",
    "tables[7].columns = ['Month', 'Day', 'Title', 'Studio','Cast and crew','Ref']\n",
    "tables[7]\n"
   ]
  },
  {
   "cell_type": "code",
   "execution_count": 59,
   "metadata": {},
   "outputs": [
    {
     "name": "stdout",
     "output_type": "stream",
     "text": [
      "               Item Purchased  Cost\n",
      "Location Name                      \n",
      "Store 1  Chris       Dog Food  22.5\n",
      "         Kevyn   Kitty Litter   2.5\n",
      "Store 2  Vinod      Bird Seed   5.0\n"
     ]
    },
    {
     "data": {
      "text/html": [
       "<div>\n",
       "<style scoped>\n",
       "    .dataframe tbody tr th:only-of-type {\n",
       "        vertical-align: middle;\n",
       "    }\n",
       "\n",
       "    .dataframe tbody tr th {\n",
       "        vertical-align: top;\n",
       "    }\n",
       "\n",
       "    .dataframe thead th {\n",
       "        text-align: right;\n",
       "    }\n",
       "</style>\n",
       "<table border=\"1\" class=\"dataframe\">\n",
       "  <thead>\n",
       "    <tr style=\"text-align: right;\">\n",
       "      <th></th>\n",
       "      <th></th>\n",
       "      <th>Item Purchased</th>\n",
       "      <th>Cost</th>\n",
       "      <th>Name</th>\n",
       "    </tr>\n",
       "    <tr>\n",
       "      <th>Location</th>\n",
       "      <th>Name</th>\n",
       "      <th></th>\n",
       "      <th></th>\n",
       "      <th></th>\n",
       "    </tr>\n",
       "  </thead>\n",
       "  <tbody>\n",
       "    <tr>\n",
       "      <td rowspan=\"2\" valign=\"top\">Store 1</td>\n",
       "      <td>Chris</td>\n",
       "      <td>Dog Food</td>\n",
       "      <td>22.5</td>\n",
       "      <td>NaN</td>\n",
       "    </tr>\n",
       "    <tr>\n",
       "      <td>Kevyn</td>\n",
       "      <td>Kitty Litter</td>\n",
       "      <td>2.5</td>\n",
       "      <td>NaN</td>\n",
       "    </tr>\n",
       "    <tr>\n",
       "      <td rowspan=\"2\" valign=\"top\">Store 2</td>\n",
       "      <td>Vinod</td>\n",
       "      <td>Bird Seed</td>\n",
       "      <td>5.0</td>\n",
       "      <td>NaN</td>\n",
       "    </tr>\n",
       "    <tr>\n",
       "      <td>Kevyn</td>\n",
       "      <td>Kitty Food</td>\n",
       "      <td>3.0</td>\n",
       "      <td>Kevyn</td>\n",
       "    </tr>\n",
       "  </tbody>\n",
       "</table>\n",
       "</div>"
      ],
      "text/plain": [
       "               Item Purchased  Cost   Name\n",
       "Location Name                             \n",
       "Store 1  Chris       Dog Food  22.5    NaN\n",
       "         Kevyn   Kitty Litter   2.5    NaN\n",
       "Store 2  Vinod      Bird Seed   5.0    NaN\n",
       "         Kevyn     Kitty Food   3.0  Kevyn"
      ]
     },
     "execution_count": 59,
     "metadata": {},
     "output_type": "execute_result"
    }
   ],
   "source": [
    "import pandas as pd\n",
    "purchase_1 = pd.Series({'Name': 'Chris',\n",
    "                        'Item Purchased': 'Dog Food',\n",
    "                        'Cost': 22.50})\n",
    "purchase_2 = pd.Series({'Name': 'Kevyn',\n",
    "                        'Item Purchased': 'Kitty Litter',\n",
    "                        'Cost': 2.50})\n",
    "purchase_3 = pd.Series({'Name': 'Vinod',\n",
    "                        'Item Purchased': 'Bird Seed',\n",
    "                        'Cost': 5.00})\n",
    "\n",
    "df = pd.DataFrame([purchase_1, purchase_2, purchase_3], index=['Store 1', 'Store 1', 'Store 2'])\n",
    "\n",
    "df['Location'] = df.index\n",
    "df.set_index(['Location', 'Name'] , inplace=True)\n",
    "print(df)\n",
    "\n",
    "purchase_4 = pd.Series({'Name': 'Kevyn',\n",
    "                        'Item Purchased': 'Kitty Food',\n",
    "                        'Cost': 3.00}, name=('Store 2', 'Kevyn'))\n",
    "df.append(purchase_4)"
   ]
  },
  {
   "cell_type": "code",
   "execution_count": 99,
   "metadata": {},
   "outputs": [
    {
     "data": {
      "text/html": [
       "<div>\n",
       "<style scoped>\n",
       "    .dataframe tbody tr th:only-of-type {\n",
       "        vertical-align: middle;\n",
       "    }\n",
       "\n",
       "    .dataframe tbody tr th {\n",
       "        vertical-align: top;\n",
       "    }\n",
       "\n",
       "    .dataframe thead th {\n",
       "        text-align: right;\n",
       "    }\n",
       "</style>\n",
       "<table border=\"1\" class=\"dataframe\">\n",
       "  <thead>\n",
       "    <tr style=\"text-align: right;\">\n",
       "      <th></th>\n",
       "      <th></th>\n",
       "      <th>Item Purchased</th>\n",
       "      <th>Cost</th>\n",
       "    </tr>\n",
       "    <tr>\n",
       "      <th>Location</th>\n",
       "      <th>Name</th>\n",
       "      <th></th>\n",
       "      <th></th>\n",
       "    </tr>\n",
       "  </thead>\n",
       "  <tbody>\n",
       "    <tr>\n",
       "      <td>Store 1</td>\n",
       "      <td>Chris</td>\n",
       "      <td>Dog Food</td>\n",
       "      <td>22.5</td>\n",
       "    </tr>\n",
       "  </tbody>\n",
       "</table>\n",
       "</div>"
      ],
      "text/plain": [
       "               Item Purchased  Cost\n",
       "Location Name                      \n",
       "Store 1  Chris       Dog Food  22.5"
      ]
     },
     "execution_count": 99,
     "metadata": {},
     "output_type": "execute_result"
    }
   ],
   "source": [
    "purchase_1 = pd.Series({'Name': 'Chris',\n",
    "                        'Item Purchased': 'Dog Food',\n",
    "                        'Cost': 22.50})\n",
    "purchase_2 = pd.Series({'Name': 'Kevyn',\n",
    "                        'Item Purchased': 'Kitty Litter',\n",
    "                        'Cost': 2.50})\n",
    "purchase_3 = pd.Series({'Name': 'Vinod',\n",
    "                        'Item Purchased': 'Bird Seed',\n",
    "                        'Cost': 5.00})\n",
    "\n",
    "df = pd.DataFrame([purchase_1, purchase_2, purchase_3], index=['Store 1', 'Store 1', 'Store 2'])\n",
    "\n",
    "\n",
    "df = df.set_index([df.index, 'Name'])\n",
    "df.index.names = ['Location', 'Name']\n",
    "df = df.append(pd.Series(data={'Cost': 3.00, 'Item Purchased': 'Kitty Food'}, name=('Store 2', 'Kevyn')))\n",
    "df.loc[[('Store 1', 'Chris')]]"
   ]
  },
  {
   "cell_type": "code",
   "execution_count": 93,
   "metadata": {},
   "outputs": [
    {
     "data": {
      "text/html": [
       "<div>\n",
       "<style scoped>\n",
       "    .dataframe tbody tr th:only-of-type {\n",
       "        vertical-align: middle;\n",
       "    }\n",
       "\n",
       "    .dataframe tbody tr th {\n",
       "        vertical-align: top;\n",
       "    }\n",
       "\n",
       "    .dataframe thead th {\n",
       "        text-align: right;\n",
       "    }\n",
       "</style>\n",
       "<table border=\"1\" class=\"dataframe\">\n",
       "  <thead>\n",
       "    <tr style=\"text-align: right;\">\n",
       "      <th></th>\n",
       "      <th>Cost</th>\n",
       "    </tr>\n",
       "  </thead>\n",
       "  <tbody>\n",
       "    <tr>\n",
       "      <td>Store 1</td>\n",
       "      <td>18.0</td>\n",
       "    </tr>\n",
       "  </tbody>\n",
       "</table>\n",
       "</div>"
      ],
      "text/plain": [
       "         Cost\n",
       "Store 1  18.0"
      ]
     },
     "execution_count": 93,
     "metadata": {},
     "output_type": "execute_result"
    }
   ],
   "source": [
    "import pandas as pd\n",
    "purchase_1 = pd.Series({'Name': 'Chris',\n",
    "                        'Item Purchased': 'Dog Food',\n",
    "                        'Cost': 22.50})\n",
    "purchase_2 = pd.Series({'Name': 'Kevyn',\n",
    "                        'Item Purchased': 'Kitty Litter',\n",
    "                        'Cost': 2.50})\n",
    "purchase_3 = pd.Series({'Name': 'Vinod',\n",
    "                        'Item Purchased': 'Bird Seed',\n",
    "                        'Cost': 5.00})\n",
    "df = pd.DataFrame([purchase_1, purchase_2, purchase_3], index=['Store 1', 'Store 1', 'Store 2'])\n",
    "\n",
    "df['Cost'] = 0.8*df['Cost']\n",
    "\n",
    "#df.loc[:,['Name']]\n",
    "\n",
    "a = df.loc['Store 1']['Cost']\n",
    "\n",
    "#a['Cost'] += 2\n",
    "\n",
    "a = pd.Series([20, 3], index = ['Store 1', 'Store 1'])\n",
    "\n",
    "a\n",
    "\n",
    "df.loc['Store 2', 'Cost'] = 5\n",
    "\n",
    "df.loc[df['Cost'] == 18, ['Cost']] \n"
   ]
  },
  {
   "cell_type": "code",
   "execution_count": null,
   "metadata": {},
   "outputs": [],
   "source": [
    "\n"
   ]
  },
  {
   "cell_type": "code",
   "execution_count": 141,
   "metadata": {},
   "outputs": [
    {
     "data": {
      "text/html": [
       "<div>\n",
       "<style scoped>\n",
       "    .dataframe tbody tr th:only-of-type {\n",
       "        vertical-align: middle;\n",
       "    }\n",
       "\n",
       "    .dataframe tbody tr th {\n",
       "        vertical-align: top;\n",
       "    }\n",
       "\n",
       "    .dataframe thead th {\n",
       "        text-align: right;\n",
       "    }\n",
       "</style>\n",
       "<table border=\"1\" class=\"dataframe\">\n",
       "  <thead>\n",
       "    <tr style=\"text-align: right;\">\n",
       "      <th></th>\n",
       "      <th>num</th>\n",
       "      <th>values</th>\n",
       "    </tr>\n",
       "  </thead>\n",
       "  <tbody>\n",
       "    <tr>\n",
       "      <td>28</td>\n",
       "      <td>10</td>\n",
       "      <td>49</td>\n",
       "    </tr>\n",
       "    <tr>\n",
       "      <td>27</td>\n",
       "      <td>10</td>\n",
       "      <td>48</td>\n",
       "    </tr>\n",
       "    <tr>\n",
       "      <td>26</td>\n",
       "      <td>10</td>\n",
       "      <td>47</td>\n",
       "    </tr>\n",
       "    <tr>\n",
       "      <td>25</td>\n",
       "      <td>10</td>\n",
       "      <td>46</td>\n",
       "    </tr>\n",
       "    <tr>\n",
       "      <td>24</td>\n",
       "      <td>10</td>\n",
       "      <td>45</td>\n",
       "    </tr>\n",
       "    <tr>\n",
       "      <td>23</td>\n",
       "      <td>10</td>\n",
       "      <td>44</td>\n",
       "    </tr>\n",
       "    <tr>\n",
       "      <td>22</td>\n",
       "      <td>10</td>\n",
       "      <td>43</td>\n",
       "    </tr>\n",
       "    <tr>\n",
       "      <td>21</td>\n",
       "      <td>10</td>\n",
       "      <td>42</td>\n",
       "    </tr>\n",
       "    <tr>\n",
       "      <td>20</td>\n",
       "      <td>10</td>\n",
       "      <td>41</td>\n",
       "    </tr>\n",
       "    <tr>\n",
       "      <td>19</td>\n",
       "      <td>10</td>\n",
       "      <td>40</td>\n",
       "    </tr>\n",
       "    <tr>\n",
       "      <td>18</td>\n",
       "      <td>10</td>\n",
       "      <td>39</td>\n",
       "    </tr>\n",
       "    <tr>\n",
       "      <td>17</td>\n",
       "      <td>10</td>\n",
       "      <td>38</td>\n",
       "    </tr>\n",
       "    <tr>\n",
       "      <td>16</td>\n",
       "      <td>10</td>\n",
       "      <td>37</td>\n",
       "    </tr>\n",
       "    <tr>\n",
       "      <td>15</td>\n",
       "      <td>10</td>\n",
       "      <td>36</td>\n",
       "    </tr>\n",
       "    <tr>\n",
       "      <td>14</td>\n",
       "      <td>10</td>\n",
       "      <td>35</td>\n",
       "    </tr>\n",
       "    <tr>\n",
       "      <td>13</td>\n",
       "      <td>10</td>\n",
       "      <td>34</td>\n",
       "    </tr>\n",
       "    <tr>\n",
       "      <td>12</td>\n",
       "      <td>10</td>\n",
       "      <td>33</td>\n",
       "    </tr>\n",
       "    <tr>\n",
       "      <td>11</td>\n",
       "      <td>10</td>\n",
       "      <td>32</td>\n",
       "    </tr>\n",
       "    <tr>\n",
       "      <td>10</td>\n",
       "      <td>10</td>\n",
       "      <td>31</td>\n",
       "    </tr>\n",
       "    <tr>\n",
       "      <td>9</td>\n",
       "      <td>10</td>\n",
       "      <td>30</td>\n",
       "    </tr>\n",
       "    <tr>\n",
       "      <td>8</td>\n",
       "      <td>10</td>\n",
       "      <td>29</td>\n",
       "    </tr>\n",
       "    <tr>\n",
       "      <td>7</td>\n",
       "      <td>10</td>\n",
       "      <td>28</td>\n",
       "    </tr>\n",
       "    <tr>\n",
       "      <td>6</td>\n",
       "      <td>10</td>\n",
       "      <td>27</td>\n",
       "    </tr>\n",
       "    <tr>\n",
       "      <td>5</td>\n",
       "      <td>10</td>\n",
       "      <td>26</td>\n",
       "    </tr>\n",
       "    <tr>\n",
       "      <td>4</td>\n",
       "      <td>10</td>\n",
       "      <td>25</td>\n",
       "    </tr>\n",
       "    <tr>\n",
       "      <td>3</td>\n",
       "      <td>10</td>\n",
       "      <td>24</td>\n",
       "    </tr>\n",
       "    <tr>\n",
       "      <td>2</td>\n",
       "      <td>10</td>\n",
       "      <td>23</td>\n",
       "    </tr>\n",
       "    <tr>\n",
       "      <td>1</td>\n",
       "      <td>10</td>\n",
       "      <td>22</td>\n",
       "    </tr>\n",
       "    <tr>\n",
       "      <td>0</td>\n",
       "      <td>10</td>\n",
       "      <td>21</td>\n",
       "    </tr>\n",
       "  </tbody>\n",
       "</table>\n",
       "</div>"
      ],
      "text/plain": [
       "    num  values\n",
       "28   10      49\n",
       "27   10      48\n",
       "26   10      47\n",
       "25   10      46\n",
       "24   10      45\n",
       "23   10      44\n",
       "22   10      43\n",
       "21   10      42\n",
       "20   10      41\n",
       "19   10      40\n",
       "18   10      39\n",
       "17   10      38\n",
       "16   10      37\n",
       "15   10      36\n",
       "14   10      35\n",
       "13   10      34\n",
       "12   10      33\n",
       "11   10      32\n",
       "10   10      31\n",
       "9    10      30\n",
       "8    10      29\n",
       "7    10      28\n",
       "6    10      27\n",
       "5    10      26\n",
       "4    10      25\n",
       "3    10      24\n",
       "2    10      23\n",
       "1    10      22\n",
       "0    10      21"
      ]
     },
     "execution_count": 141,
     "metadata": {},
     "output_type": "execute_result"
    }
   ],
   "source": [
    "import pandas as pd\n",
    "dict = {'num': list(range(1, 30)), 'values': list(range(21,50))}\n",
    "#print(dict)\n",
    "\n",
    "#len(dict['values'])\n",
    "df = pd.DataFrame(dict)\n",
    "new = df.copy()\n",
    "new[new['num']>20]\n",
    "\n",
    "new.loc[:, 'num'] = 10\n",
    "new.sort_values(by=['values'], ascending=False)"
   ]
  },
  {
   "cell_type": "code",
   "execution_count": 1,
   "metadata": {},
   "outputs": [
    {
     "data": {
      "text/plain": [
       "Category  Item        \n",
       "health    toothbrush       2\n",
       "pack      pack            30\n",
       "sheep     sleeping bag     0\n",
       "          sleeping pad    20\n",
       "shelter   tent            54\n",
       "dtype: int64"
      ]
     },
     "execution_count": 1,
     "metadata": {},
     "output_type": "execute_result"
    }
   ],
   "source": [
    "import pandas as pd\n",
    "item = {'Item': ['pack', 'tent', 'sleeping bag', 'sleeping pad', 'toothbrush']\n",
    "       , 'Category': ['pack', 'shelter', 'sheep', 'sheep', 'health']\n",
    "       , 'Quantity': [1,2,0,1,1]\n",
    "       , 'Weight': [30, 27, 80, 20, 2]}\n",
    "\n",
    "df = pd.DataFrame(item)\n",
    "\n",
    "df.set_index(\"Item\", inplace=True)\n",
    "# df.drop(df['Item'])\n",
    "# df.drop(df[df['Quantity'] == 0].index).rename(columns={'Weight': 'Weight (oz.)'})\n",
    "df\n",
    "def multiply(df):\n",
    "    return df['Quantity']*df['Weight']\n",
    "df.groupby('Category').apply(multiply)"
   ]
  },
  {
   "cell_type": "code",
   "execution_count": 23,
   "metadata": {},
   "outputs": [
    {
     "data": {
      "text/plain": [
       "[1, 2, 3, 4, 5, 6, 7, 8, 9]"
      ]
     },
     "execution_count": 23,
     "metadata": {},
     "output_type": "execute_result"
    }
   ],
   "source": [
    "import numpy as np\n",
    "all = np.random.binomial(20, .5, 10000)\n",
    "(len(all[all >= 15])) / len(all)\n",
    "\n"
   ]
  },
  {
   "cell_type": "code",
   "execution_count": null,
   "metadata": {},
   "outputs": [],
   "source": []
  }
 ],
 "metadata": {
  "kernelspec": {
   "display_name": "Python 3",
   "language": "python",
   "name": "python3"
  },
  "language_info": {
   "codemirror_mode": {
    "name": "ipython",
    "version": 3
   },
   "file_extension": ".py",
   "mimetype": "text/x-python",
   "name": "python",
   "nbconvert_exporter": "python",
   "pygments_lexer": "ipython3",
   "version": "3.7.4"
  }
 },
 "nbformat": 4,
 "nbformat_minor": 2
}
