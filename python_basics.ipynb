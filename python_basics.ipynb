{
 "cells": [
  {
   "cell_type": "code",
   "execution_count": null,
   "metadata": {},
   "outputs": [],
   "source": [
    "3*8"
   ]
  },
  {
   "cell_type": "code",
   "execution_count": null,
   "metadata": {},
   "outputs": [],
   "source": [
    "print(\"hello\")"
   ]
  },
  {
   "cell_type": "code",
   "execution_count": null,
   "metadata": {
    "scrolled": true
   },
   "outputs": [],
   "source": [
    "message=\"hello\"\n",
    "print(message)"
   ]
  },
  {
   "cell_type": "code",
   "execution_count": null,
   "metadata": {
    "scrolled": true
   },
   "outputs": [],
   "source": [
    "pwd"
   ]
  },
  {
   "cell_type": "code",
   "execution_count": null,
   "metadata": {},
   "outputs": [],
   "source": [
    "a = \"SAMPLE name\"\n",
    "print(a.title())\n",
    "print(a.upper())\n"
   ]
  },
  {
   "cell_type": "code",
   "execution_count": null,
   "metadata": {},
   "outputs": [],
   "source": [
    "first=\"karthik\"\n",
    "last=\"suresh\"\n",
    "full = first+ \" \" +last\n",
    "print(\"Hello, \" + full.title() + \"!\")"
   ]
  },
  {
   "cell_type": "code",
   "execution_count": null,
   "metadata": {},
   "outputs": [],
   "source": [
    "print('Albert Einstrin said, \"a person who never made a mistake never tried anything new.\"')"
   ]
  },
  {
   "cell_type": "code",
   "execution_count": null,
   "metadata": {},
   "outputs": [],
   "source": [
    "famous_person = 'Albert'\n",
    "message = famous_person+ '\"a person who never made a mistake never tried anything new.\"'\n",
    "print(message)\n"
   ]
  },
  {
   "cell_type": "code",
   "execution_count": null,
   "metadata": {},
   "outputs": [],
   "source": [
    "3+4"
   ]
  },
  {
   "cell_type": "code",
   "execution_count": null,
   "metadata": {},
   "outputs": [],
   "source": [
    "import this"
   ]
  },
  {
   "cell_type": "code",
   "execution_count": null,
   "metadata": {},
   "outputs": [],
   "source": [
    "players = [\"sachin\", \"dhoni\" ,\"virat\"]\n",
    "print(\"One of the best players is \" + players[0])\n",
    "print(\"One of the best players is \" + players[1])\n",
    "print(\"One of the best players is \" + players[2])"
   ]
  },
  {
   "cell_type": "code",
   "execution_count": null,
   "metadata": {},
   "outputs": [],
   "source": [
    "invites = ['dad', 'mom', 'friends']\n",
    "message1 = invites[0]+ \" \" + \"please come for dinner\"\n",
    "message2 = invites[1]+ \" \" + \"please come for dinner\"\n",
    "message3 = invites[2]+ \" \" + \"please come for dinner\"\n",
    "print(message1+'\\n'+message2+'\\n'+message3)\n",
    "\n",
    "invites[2] = 'cousins'\n",
    "invites.insert(0,'karthik')\n",
    "invites.insert(2, 'friends')\n",
    "invites.append('new_friends')\n",
    "print(invites)\n",
    "print(\"can invite only 2 ppl for dinner\")\n",
    "invites.pop()\n",
    "invites\n",
    "last=invites.pop()\n",
    "print(\"sorry\" + \" \" + last+ \" \" + \"could not invite\")\n",
    "\n",
    "print(invites)\n",
    "del(invites[0])\n",
    "del(invites[1])\n",
    "invitess"
   ]
  },
  {
   "cell_type": "code",
   "execution_count": null,
   "metadata": {},
   "outputs": [],
   "source": [
    "print(\"\\n sorted list\")\n",
    "places = ['Swiss', 'France', 'UK', 'Germany', 'Belgium']\n",
    "print(places)\n",
    "print(sorted(places))\n",
    "print(places)\n",
    "places.reverse()\n",
    "print(places)\n",
    "print(len(places))"
   ]
  },
  {
   "cell_type": "code",
   "execution_count": null,
   "metadata": {},
   "outputs": [],
   "source": [
    "pizzas = [\"corn\",\"tomato\",\"onion\"]\n",
    "for pizza in pizzas:\n",
    "    print(\"I like\" +\" \"+pizza+ \" \"+ \"pizza\")\n",
    "print(\"I like pizzas\")"
   ]
  },
  {
   "cell_type": "code",
   "execution_count": null,
   "metadata": {},
   "outputs": [],
   "source": [
    "for i in range(1,21):\n",
    "    print(i)"
   ]
  },
  {
   "cell_type": "code",
   "execution_count": null,
   "metadata": {},
   "outputs": [],
   "source": [
    "million = list(range(1, 100001))\n",
    "print(sum(million))\n",
    "\n",
    "for i in range(1,21,2):\n",
    "    print(i)\n",
    "\n",
    "values=[]\n",
    "for i in range(1,11):\n",
    "    value = 3*i\n",
    "    values.append(value)\n",
    "print(values)\n",
    "\n",
    "values = [3*i for i in range(1,11)]\n",
    "print(values)\n",
    "\n",
    "#list of cubes and print\n",
    "\n",
    "cubes = [i**3 for i in range(1,11)]\n",
    "\n",
    "for value in cubes:\n",
    "    print(value)\n"
   ]
  },
  {
   "cell_type": "code",
   "execution_count": null,
   "metadata": {},
   "outputs": [],
   "source": [
    "values = [3*i for i in range(1,11)]\n",
    "print(values)\n",
    "\n",
    "print(values[:3])\n",
    "print(\"Three items from middle are :\" + str(values[4:7]))\n",
    "\n",
    "print(\"Three items are:\")\n",
    "for i in values[:3]:\n",
    "    print(i)\n",
    "print(values[:-3])"
   ]
  },
  {
   "cell_type": "code",
   "execution_count": null,
   "metadata": {},
   "outputs": [],
   "source": [
    "pizzas = [\"corn\", \"onion\", \"tomato\"]\n",
    "friends_pizza = pizzas[:]\n",
    "pizzas.append(\"paneer\")\n",
    "friends_pizza.append(\"olives\")\n",
    "\n",
    "print(\"my fav pizzas are\")\n",
    "for pizza in pizzas:\n",
    "    print(pizza)\n",
    "\n",
    "print(\"\\nmy friend's fav pizza are\")\n",
    "for pizza in friends_pizza:\n",
    "    print(pizza)\n",
    "    "
   ]
  },
  {
   "cell_type": "code",
   "execution_count": null,
   "metadata": {},
   "outputs": [],
   "source": [
    "name = 'Karthik'\n",
    "if name.lower() == \"karthik\":\n",
    "    print(\"correct\")\n",
    "    \n",
    "pizzas = [\"corn\", \"onion\", \"tomato\"]\n",
    "if \"Onion\" not in pizzas:\n",
    "    print(\"Correct\")"
   ]
  },
  {
   "cell_type": "code",
   "execution_count": null,
   "metadata": {},
   "outputs": [],
   "source": [
    "alien_color = 'abc'\n",
    "\n",
    "if alien_color == 'green':\n",
    "    print(\"5 points\")\n",
    "else:\n",
    "    print(\"10 points\")"
   ]
  },
  {
   "cell_type": "code",
   "execution_count": null,
   "metadata": {},
   "outputs": [],
   "source": [
    "usernames = []\n",
    "\n",
    "if usernames:\n",
    "\n",
    "    for user in usernames:\n",
    "        if user == 'admin':\n",
    "            print(\"Hello admin\")\n",
    "        else:\n",
    "            print(\"hello\" + user)\n",
    "else:\n",
    "    print(\"need users\")\n"
   ]
  },
  {
   "cell_type": "code",
   "execution_count": null,
   "metadata": {},
   "outputs": [],
   "source": [
    "current_users = [\"admin\", 'John', 'b', 'c', 'd']\n",
    "new_users = ['JOHN', 'e', 'c', 'f']\n",
    "\n",
    "for user in new_users:\n",
    "    if user.title() in current_users:\n",
    "        print(\"need new username\")\n",
    "        \n",
    "    else:\n",
    "        print(\"username available\")\n",
    "\n",
    "a = list(range(1,7))\n",
    "for num in a:\n",
    "    if num == 1:\n",
    "        print(\"1st\")\n",
    "    elif num == 2:\n",
    "        print(\"2nd\")\n",
    "    elif num == 3:\n",
    "        print(\"3rd\")\n",
    "    elif num == 4:\n",
    "        print(\"4th\")\n",
    "    elif num == 5:\n",
    "        print(\"5th\")\n",
    "    elif num == 6:\n",
    "        print(\"6th\")\n",
    "        \n",
    "upper = [user.upper() for user in current_users]\n",
    "print(upper)\n",
    "    \n"
   ]
  },
  {
   "cell_type": "code",
   "execution_count": null,
   "metadata": {},
   "outputs": [],
   "source": [
    "mom = {'first_name':'Savithiri', 'last_name':'Suresh', 'Age':53, 'City':'Chennai'}\n",
    "print(mom['first_name'])\n",
    "print(mom['Age'])"
   ]
  },
  {
   "cell_type": "code",
   "execution_count": null,
   "metadata": {},
   "outputs": [],
   "source": [
    "rivers = {'nile': 'egypt', 'ganges': 'india', 'amazon': 'SA'}\n",
    "for river, country in rivers.items():\n",
    "    print(river + \" \" + \"runs through\" +\" \" + country)\n",
    "for river in rivers.keys():\n",
    "    print(river)\n",
    "for country in rivers.values():\n",
    "    print(country)"
   ]
  },
  {
   "cell_type": "code",
   "execution_count": null,
   "metadata": {},
   "outputs": [],
   "source": [
    "favorite_languages = {\n",
    "'jen': 'python',\n",
    "'sarah': 'c',\n",
    "'edward': 'ruby',\n",
    "'phil': 'python',\n",
    "}\n",
    "\n",
    "should_take = ['jen', 'phil', 'john']\n",
    "for name in should_take:\n",
    "    if name in favorite_languages.keys():\n",
    "        print(name + \" \"+ \"thanks for taking poll\")\n",
    "    else:\n",
    "        print(name + \" \" + \"please take the poll\")"
   ]
  },
  {
   "cell_type": "code",
   "execution_count": null,
   "metadata": {},
   "outputs": [],
   "source": [
    "Dad = {'first_name':'Suresh', 'last_name':'AM', 'age':61, 'city': 'chennai'}\n",
    "Mom = {'first_name':'Savi', 'last_name':'Suri', 'age':53, 'city': 'chennai'}\n",
    "\n",
    "parents = [Dad,Mom]\n",
    "\n",
    "for x in parents:\n",
    "    print(x['first_name'])\n",
    "    \n",
    "fav_places = {'Karthi':[\"Italy\",\"France\",\"US\"],\n",
    "             'Suri': [\"UK\",\"US\",\"Spain\"],\n",
    "              'Savi': [\"India\",\"Aus\", \"US\"],}\n",
    "for name, places in fav_places.items():\n",
    "    print(name + \"likes the below countries\")\n",
    "    for place in places:\n",
    "        print(place)\n",
    "\n",
    "cities = { 'Chennai': {'Country': 'India', 'Population': '6 million'},\n",
    "         'New York': {'Country': 'US', 'Population': '2 million'},\n",
    "         'London' : {'Country': 'UK', 'Population': '3 million'},\n",
    "         }\n",
    "for city, details in cities.items():\n",
    "    print(city + \" \" + \"'s details are given below\")\n",
    "    print(details['Country'])\n",
    "    print(details['Population'])\n",
    "\n"
   ]
  },
  {
   "cell_type": "code",
   "execution_count": null,
   "metadata": {},
   "outputs": [],
   "source": [
    "number = input(\"give a number \")\n",
    "number=int(number)\n",
    "\n",
    "if number%10 == 0:\n",
    "    print(\"multiple of 10\")\n",
    "else:\n",
    "    print(\"not a multiple of 10\")"
   ]
  },
  {
   "cell_type": "code",
   "execution_count": null,
   "metadata": {},
   "outputs": [],
   "source": [
    "# while loop\n",
    "message = \"Enter your pizza topping: \"\n",
    "a=''\n",
    "while a!='quit':\n",
    "    a=input(message)\n",
    "    if a!='quit':\n",
    "        print(\"Adding \" + a)\n",
    "    else:\n",
    "        break\n",
    "        "
   ]
  },
  {
   "cell_type": "code",
   "execution_count": null,
   "metadata": {},
   "outputs": [],
   "source": [
    "message = \"what's your age? \"\n",
    "age=int(input(message))\n",
    "\n",
    "while age>0:\n",
    "\n",
    "    if age<3:\n",
    "        print(\"ticket free\")\n",
    "    if age>3 and age<12:\n",
    "        print(\"ticket is 10 dollars\")\n",
    "    if age>12:\n",
    "        print(\"ticket is 15 dollars\")\n",
    "    age = int(input(message))"
   ]
  },
  {
   "cell_type": "code",
   "execution_count": null,
   "metadata": {},
   "outputs": [],
   "source": [
    "active = True\n",
    "\n",
    "while active:\n",
    "    message = \"what's your age? \"\n",
    "    age=int(input(message)) \n",
    "    if age==0:\n",
    "        active=False\n",
    "        print(\"enter valid age\")\n",
    "    if age<3 and age>0:\n",
    "        print(\"ticket free\")\n",
    "    if age>3 and age<12:\n",
    "        print(\"ticket is 10 dollars\")\n",
    "    if age>12:\n",
    "        print(\"ticket is 15 dollars\")\n",
    "\n"
   ]
  },
  {
   "cell_type": "code",
   "execution_count": null,
   "metadata": {},
   "outputs": [],
   "source": [
    "\n",
    "while True:\n",
    "    message = \"Enter your pizza topping: \"\n",
    "    a=input(message)\n",
    "    if a!='quit':\n",
    "        print(\"Adding \" + a)\n",
    "    else:\n",
    "        break"
   ]
  },
  {
   "cell_type": "code",
   "execution_count": null,
   "metadata": {},
   "outputs": [],
   "source": [
    "a = input('tell me something and I will repeat it back to you: '+ '\\n' + 'press quit to exit: ')\n",
    "\n",
    "\n",
    "while a!='quit':\n",
    "    print(a)\n",
    "    a = input('tell me something and I will repeat it back to you: '+ '\\n' + 'press quit to exit: ')\n",
    "    "
   ]
  },
  {
   "cell_type": "code",
   "execution_count": null,
   "metadata": {},
   "outputs": [],
   "source": [
    "uncon_users = ['a' , 'b' , 'c']\n",
    "con_users = []\n",
    "\n",
    "while uncon_users:\n",
    "    a = uncon_users.pop()\n",
    "    print(\"verifying user \" + a + '!.')\n",
    "    con_users.append(a)\n",
    "\n",
    "print(\"displaying updated users\")\n",
    "for user in con_users:\n",
    "    print(user)\n",
    "    \n"
   ]
  },
  {
   "cell_type": "code",
   "execution_count": null,
   "metadata": {},
   "outputs": [],
   "source": [
    "responses = {}\n",
    "\n",
    "Flag=True\n",
    "\n",
    "while Flag:\n",
    "    \n",
    "    name = input(\"whats your name? : \")\n",
    "    response = input(\"whats your fav number? : \")\n",
    "\n",
    "    responses[name] = response\n",
    "\n",
    "    check = input(\"would you like to play again? - yes/no \")\n",
    "    \n",
    "    if check == 'no':\n",
    "        Flag = False\n",
    "    else:\n",
    "        continue\n",
    "\n",
    "print(responses)"
   ]
  },
  {
   "cell_type": "code",
   "execution_count": null,
   "metadata": {},
   "outputs": [],
   "source": [
    "sandwich_orders = ['onion', 'pastrami', 'potato', 'tomato', 'pastrami', 'pastrami']\n",
    "finished_sandwiches = []\n",
    "\n",
    "print(\"Store ran out of pastrami\")\n",
    "while sandwich_orders:\n",
    "    current = sandwich_orders.pop()\n",
    "    if current!='pastrami':\n",
    "        print(\"I made your \" + current + \" sandwich\")\n",
    "        finished_sandwiches.append(current)\n",
    "\n",
    "print(finished_sandwiches)\n",
    "    "
   ]
  },
  {
   "cell_type": "code",
   "execution_count": null,
   "metadata": {},
   "outputs": [],
   "source": [
    "poll_results = {}\n",
    "\n",
    "while True:\n",
    "    name = input('whats your name? ')\n",
    "    place = input('whats your favourite place? ')\n",
    "\n",
    "    poll_results[name] = place\n",
    "\n",
    "    check = input(\"do you want to take the poll again? yes/no\")\n",
    "\n",
    "    if check == 'no':\n",
    "        break\n",
    "    else:\n",
    "        continue\n",
    "\n",
    "for k, v in poll_results.items():\n",
    "    print(k + \" 's fav place is \" + v)"
   ]
  },
  {
   "cell_type": "code",
   "execution_count": null,
   "metadata": {},
   "outputs": [],
   "source": [
    "def fav_book(book):\n",
    "    print(\"one of my fav books is \" + book)\n",
    "fav_book(\"alice in wonderland\")"
   ]
  },
  {
   "cell_type": "code",
   "execution_count": null,
   "metadata": {},
   "outputs": [],
   "source": [
    "def make_shirt(text,size='large'):\n",
    "    print(\"size of the shirt is \" + size + \" and text is \" + text)\n",
    "    print(\"I love python\")\n",
    "\n",
    "make_shirt('xyz','medium')\n",
    "\n",
    "make_shirt('xyz')"
   ]
  },
  {
   "cell_type": "code",
   "execution_count": null,
   "metadata": {},
   "outputs": [],
   "source": [
    "def describe_city(city,country='India'):\n",
    "    print(city + \" is in \" + country)\n",
    "\n",
    "describe_city(\"New York\", \"US\")"
   ]
  },
  {
   "cell_type": "code",
   "execution_count": null,
   "metadata": {},
   "outputs": [],
   "source": [
    "def city_country(city,country):\n",
    "    final = '\"' + city.title() + ', ' + country.title() + '\"'\n",
    "    return final\n",
    "city_country('chennai', 'india')\n",
    "\n",
    "def make_album(name, title, tracks=''):\n",
    "        \n",
    "    dict = {}\n",
    "    dict[name] = title\n",
    "    #dict_1 = {}\n",
    "    #dict_2 = {}\n",
    "    #name = input(\"Artist Name? \")\n",
    "    #title = input(\"Artist Title?\")\n",
    "    #dict[name] = title\n",
    "    #name_1 = input(\"Artist Name? \")\n",
    "    #title_1 = input(\"Artist Title?\")\n",
    "    #dict_1[name_1] = title_1\n",
    "    #name_2 = input(\"Artist Name? \")\n",
    "    #title_2 = input(\"Artist Title?\")\n",
    "    #dict_2[name_2] = title_2\n",
    "    \n",
    "    if tracks:\n",
    "        dict['tracks'] = tracks\n",
    "        \n",
    "    return dict\n",
    "\n",
    "a = make_album('abc', 'xyz')\n",
    "print(a)\n",
    "b = make_album('def', 'abc', 4)\n",
    "print(b)"
   ]
  },
  {
   "cell_type": "code",
   "execution_count": null,
   "metadata": {},
   "outputs": [],
   "source": [
    "def make_album(name, title, tracks=''):\n",
    "    dict = {}\n",
    "    dict[name] = title\n",
    "    if tracks:\n",
    "        dict['tracks'] = tracks\n",
    "    return dict\n",
    "\n",
    "while True:\n",
    "    name = input(\"Artist Name? enter 'q' to quit \")\n",
    "    if name == 'q':\n",
    "        break\n",
    "    title = input(\"Artist Title? enter 'q' to quit \")\n",
    "    if title == 'q':\n",
    "        break\n",
    "\n",
    "    a = make_album(name,title)\n",
    "    print(a)"
   ]
  },
  {
   "cell_type": "code",
   "execution_count": null,
   "metadata": {},
   "outputs": [],
   "source": [
    "\n",
    "def show_magicians(magicians):\n",
    "    for magician in magicians:\n",
    "        print(\" Hello \" + magician)\n",
    "\n",
    "#show_magicians(magicians)\n",
    "\n",
    "copy = magicians[:]\n",
    "\n",
    "#This is an infinite loop\n",
    "def make_great(copy):\n",
    "    while copy:\n",
    "        temp = copy.pop()\n",
    "        temp = \"Great\" + temp\n",
    "        copy.append(temp)\n",
    "\n",
    "make_great(copy)\n",
    "show_magicians(copy)"
   ]
  },
  {
   "cell_type": "code",
   "execution_count": null,
   "metadata": {},
   "outputs": [],
   "source": [
    "def show_magicians(magicians):\n",
    "    for magician in magicians:\n",
    "        print(\" Hello \" + magician)\n",
    "\n",
    "magicians = ['a', 'b', 'c', 'd']\n",
    "\n",
    "copy = magicians[:]\n",
    "\n",
    "test = []\n",
    "\n",
    "def make_great(copy):\n",
    "    while copy:\n",
    "        temp = copy.pop()\n",
    "        temp = \"Great \" + temp\n",
    "        test.append(temp)\n",
    "\n",
    "make_great(copy)\n",
    "print(test)\n",
    "print(magicians)"
   ]
  },
  {
   "cell_type": "code",
   "execution_count": null,
   "metadata": {},
   "outputs": [],
   "source": [
    "def make_sandwich(*stuff):\n",
    "    print('Below items are added to sandwich')\n",
    "    for x in stuff:\n",
    "        print(x)\n",
    "\n",
    "make_sandwich('corn', 'onion', 'tomato')\n",
    "make_sandwich('onion')\n",
    "\n",
    "\n",
    "def sample(**details):\n",
    "    for key,value in details.items():\n",
    "        print(key + str(value))\n",
    "\n",
    "sample(Name='Karthik', 'Age'=25)"
   ]
  },
  {
   "cell_type": "code",
   "execution_count": null,
   "metadata": {},
   "outputs": [],
   "source": [
    "#Building first class\n",
    "\n",
    "class Restaurant():\n",
    "    def __init__(self, name, cuisine_type):\n",
    "        self.name = name\n",
    "        self.cuisine_type = cuisine_type\n",
    "        self.number_served = 0\n",
    "    def describe_restaurant(self):\n",
    "        print(self.name +\" \"+self.cuisine_type)\n",
    "    def open_restaurant(self):\n",
    "        print(self.name.title() + \" is open\")\n",
    "    def set_number_served(self, number):\n",
    "        self.number_served = number\n",
    "    def increment_served(self, add):\n",
    "        self.number_served += add\n",
    "\n",
    "restaurant = Restaurant('grand sweets','vegetarian')\n",
    "print(restaurant.name)\n",
    "print(restaurant.cuisine_type)\n",
    "restaurant.describe_restaurant()\n",
    "restaurant.open_restaurant()\n",
    "\n",
    "print(restaurant.number_served)\n",
    "restaurant.number_served = 5\n",
    "print(restaurant.number_served)\n",
    "restaurant.set_number_served(7)\n",
    "print(restaurant.number_served)\n",
    "restaurant.increment_served(3)\n",
    "print(restaurant.number_served)"
   ]
  },
  {
   "cell_type": "code",
   "execution_count": null,
   "metadata": {
    "scrolled": true
   },
   "outputs": [],
   "source": [
    "class User:\n",
    "    def __init__(self,first_name,last_name,login_attempts):\n",
    "        self.first_name = first_name\n",
    "        self.last_name = last_name\n",
    "        self.login_attempts = login_attempts\n",
    "    def describe_user(self):\n",
    "        print(self.first_name + \" \" + self.last_name)\n",
    "    def greet_user(self):\n",
    "        print(\"Welcome\" + \" \" + self.first_name + \" \" + self.last_name)\n",
    "    def increment_attempt(self):\n",
    "        self.login_attempts += 1\n",
    "    def reset_login_attempt(self):\n",
    "        self.login_attempts = 0\n",
    "        \n",
    "\n",
    "user = User('Karthikeyan','Suresh',4)\n",
    "user.describe_user()\n",
    "user.greet_user()\n",
    "user.increment_attempt()\n",
    "print(user.login_attempts)\n",
    "user.reset_login_attempt()\n",
    "print(user.login_attempts)"
   ]
  },
  {
   "cell_type": "code",
   "execution_count": null,
   "metadata": {},
   "outputs": [],
   "source": [
    "# More exercises with class - inheritance, create sub class etc\n",
    "\n",
    "class Restaurant():\n",
    "    def __init__(self, name, cuisine_type):\n",
    "        self.name = name\n",
    "        self.cuisine_type = cuisine_type\n",
    "        self.number_served = 0\n",
    "    def describe_restaurant(self):\n",
    "        print(self.name +\" \"+self.cuisine_type)\n",
    "    def open_restaurant(self):\n",
    "        print(self.name.title() + \" is open\")\n",
    "    def set_number_served(self, number):\n",
    "        self.number_served = number\n",
    "    def increment_served(self, add):\n",
    "        self.number_served += add\n",
    "\n",
    "class IceCreamStand(Restaurant):\n",
    "    def __init__(self, flavours):\n",
    "        self.flavours = flavours\n",
    "    \n",
    "    def display_flavours(self):\n",
    "        for flavour in self.flavours:\n",
    "            print(flavour)\n",
    "\n",
    "ice_cream_shop = IceCreamStand(['vanilla','chocolate','mango'])\n",
    "\n",
    "ice_cream_shop.display_flavours()\n",
    "\n",
    "\n",
    "# second example\n",
    "\n",
    "class User:\n",
    "    def __init__(self,first_name,last_name,login_attempts):\n",
    "        self.first_name = first_name\n",
    "        self.last_name = last_name\n",
    "        self.login_attempts = login_attempts\n",
    "    def describe_user(self):\n",
    "        print(self.first_name + \" \" + self.last_name)\n",
    "    def greet_user(self):\n",
    "        print(\"Welcome\" + \" \" + self.first_name + \" \" + self.last_name)\n",
    "    def increment_attempt(self):\n",
    "        self.login_attempts += 1\n",
    "    def reset_login_attempt(self):\n",
    "        self.login_attempts = 0\n",
    "\n",
    "class Admin(User):\n",
    "    def __init__(self):\n",
    "        self.privs = Privileges()\n",
    "    \n",
    "\n",
    "class Privileges():\n",
    "    def __init__(self):\n",
    "        self.privileges = ['can add post', 'can delete post', 'can ban user']\n",
    "    \n",
    "    def show_privileges(self):\n",
    "        for privilege in self.privileges:\n",
    "            print(\"Administrator\" + \" \"+ privilege)\n",
    "\n",
    "new_admin = Admin()\n",
    "new_admin.privs.show_privileges()\n",
    "        \n",
    "new_admin.privs.privileges = ['x', 'y']\n",
    "new_admin.privs.show_privileges()\n",
    "\n",
    "admin = Admin()\n",
    "admin.privs.show_privileges()\n",
    "\n",
    "# testing restaurant class by creating new instances\n",
    "\n",
    "rest_1 = Restaurant(\"A2B\", \"Veg\")\n",
    "print(rest_1.number_served)\n",
    "rest_1.number_served = 20\n",
    "print(rest_1.number_served)\n",
    "\n",
    "#second instance of restaurant\n",
    "\n",
    "rest_2 = Restaurant(\"Grand sweets\", \"Veg\")\n",
    "print(rest_2.number_served)"
   ]
  },
  {
   "cell_type": "code",
   "execution_count": null,
   "metadata": {},
   "outputs": [],
   "source": [
    "class Battery():\n",
    "    def __init__(self, battery_size=70):\n",
    "        \"\"\"Initialize the battery's attributes.\"\"\"\n",
    "        self.battery_size = battery_size\n",
    "\n",
    "    def describe_battery(self):\n",
    "        \"\"\"Print a statement describing the battery size.\"\"\"\n",
    "        print(\"This car has a \" + str(self.battery_size) + \"-kWh battery.\")\n",
    "\n",
    "    def get_range(self):\n",
    "        \"\"\"Print a statement about the range this battery provides.\"\"\"\n",
    "        if self.battery_size == 70:\n",
    "            range = 240\n",
    "        elif self.battery_size == 85:\n",
    "            range = 270\n",
    "        message = \"This car can go approximately \" + str(range)\n",
    "        message += \" miles on a full charge.\"\n",
    "        print(message)\n",
    "    \n",
    "    def upgrade_battery(self):\n",
    "        if self.battery_size != 85:\n",
    "            self.battery_size = 85\n",
    "\n",
    "class ElectricCar():\n",
    "    def __init__(self, make, model, year):\n",
    "        \"\"\"\n",
    "        Initialize attributes of the parent class.\n",
    "        Then initialize attributes specific to an electric car.\n",
    "        \"\"\"\n",
    "\n",
    "        self.battery = Battery()\n",
    "\n",
    "my_electric = ElectricCar('Toyota', 'Innova', 2015)\n",
    "my_electric.battery.get_range()\n",
    "my_electric.battery.upgrade_battery()\n",
    "my_electric.battery.get_range()"
   ]
  },
  {
   "cell_type": "code",
   "execution_count": null,
   "metadata": {},
   "outputs": [],
   "source": [
    "#import class exercise\n",
    "import Restaurant as R\n",
    "\n",
    "rest = R.Restaurant('Ganga Sweets', 'Veg')\n",
    "rest.describe_restaurant()\n",
    "\n",
    "from User import User\n",
    "from Admin import Privileges\n",
    "\n",
    "sample_admin = Admin()\n",
    "\n",
    "sample_admin.privs.show_privileges()\n"
   ]
  },
  {
   "cell_type": "code",
   "execution_count": null,
   "metadata": {},
   "outputs": [],
   "source": [
    "from random import randint\n",
    "\n",
    "class Die():\n",
    "    def __init__(self,sides=6):\n",
    "        self.sides = sides\n",
    "    def roll_die(self):\n",
    "        rand = randint(1, self.sides)\n",
    "        print(rand)\n",
    "\n",
    "die1 = Die()\n",
    "for i in range(1,11):\n",
    "    die1.roll_die()\n",
    "    \n",
    "die2 = Die(10)\n",
    "for i in range(1,11):\n",
    "    die2.roll_die()"
   ]
  },
  {
   "cell_type": "code",
   "execution_count": null,
   "metadata": {},
   "outputs": [],
   "source": [
    "file = 'Pi.txt'\n",
    "\n",
    "with open(file) as file:\n",
    "    txt = file.readlines()\n",
    "    print(txt)\n",
    "\n",
    "pi = ''\n",
    "for line in txt:\n",
    "    pi += line.strip()\n",
    "print(pi) \n",
    "print(len(pi))  \n",
    "\n",
    "\n",
    "name = input(\"what's your name? \")\n",
    "\n",
    "with open('guest.txt', 'a') as program:\n",
    "    program.write(name)\n",
    "    "
   ]
  },
  {
   "cell_type": "code",
   "execution_count": null,
   "metadata": {},
   "outputs": [],
   "source": [
    "name=''\n",
    "while name!= 'quit':\n",
    "    name = input(\"what's your name? \")\n",
    "    if name != 'quit':\n",
    "        print(\"Welcome\" + name)\n",
    "    \n",
    "        with open('guest.txt','a') as program:\n",
    "            program.write(name + '\\n')\n",
    "    "
   ]
  },
  {
   "cell_type": "code",
   "execution_count": null,
   "metadata": {},
   "outputs": [],
   "source": [
    "#import PyPDF2\n",
    "with open(r\"C:\\Users\\knmx699\\Desktop\\sk\\Mydocs\\MGMAT-SC.txt\") as my_book:\n",
    "    book = my_book.read()\n",
    "    print(book)\n",
    "    "
   ]
  },
  {
   "cell_type": "code",
   "execution_count": null,
   "metadata": {},
   "outputs": [],
   "source": [
    "#trying to work with PDF's\n",
    "import PyPDF2\n",
    "my_pdf = open(r\"C:\\Users\\knmx699\\Desktop\\sk\\Mydocs\\Bulding the Data Warehouse 4 Edition.pdf\",'rb')\n",
    "pdf_read = PyPDF2.PdfFileReader(my_pdf,strict=False)\n",
    "#print(pdf_read.numPages)\n",
    "pdf_obj = pdf_read.getPage(7)\n",
    "print(pdf_obj.extractText())"
   ]
  },
  {
   "cell_type": "code",
   "execution_count": 2,
   "metadata": {},
   "outputs": [
    {
     "name": "stdout",
     "output_type": "stream",
     "text": [
      "provide number for a: 5\n",
      "provide number for b: 4\n",
      "9\n"
     ]
    }
   ],
   "source": [
    "# handling exceptions\n",
    "try:\n",
    "    a = int(input(\"provide number for a: \"))\n",
    "    b = int(input(\"provide number for b: \"))\n",
    "except ValueError:\n",
    "    print(\"please provide an integer\")\n",
    "else:\n",
    "    print(a+b)"
   ]
  },
  {
   "cell_type": "code",
   "execution_count": 1,
   "metadata": {},
   "outputs": [
    {
     "name": "stdout",
     "output_type": "stream",
     "text": [
      "cat1 cat2 cat3\n",
      "dog1 dog2 dog3\n"
     ]
    }
   ],
   "source": [
    "files = ['cat.txt', 'dog.txt']\n",
    "\n",
    "def print_names(filename):\n",
    "    try:\n",
    "        with open(filename) as file:\n",
    "            read_file = file.read()\n",
    "            \n",
    "    except FileNotFoundError:\n",
    "        print(\"File not available in folder\")\n",
    "        #pass\n",
    "    \n",
    "    else:\n",
    "        print(read_file)\n",
    "\n",
    "for file in files:\n",
    "    print_names(file)"
   ]
  },
  {
   "cell_type": "code",
   "execution_count": 2,
   "metadata": {},
   "outputs": [
    {
     "name": "stdout",
     "output_type": "stream",
     "text": [
      "<class 'pandas.core.frame.DataFrame'>\n",
      "RangeIndex: 14280 entries, 0 to 14279\n",
      "Columns: 292 entries, CLINICAL_PLAN_NO to ALLOW_TRC_CREATION_FLAG\n",
      "dtypes: datetime64[ns](7), float64(98), int64(41), object(146)\n",
      "memory usage: 31.8+ MB\n"
     ]
    }
   ],
   "source": []
  },
  {
   "cell_type": "code",
   "execution_count": 6,
   "metadata": {},
   "outputs": [
    {
     "name": "stdout",
     "output_type": "stream",
     "text": [
      "<class 'pandas.core.frame.DataFrame'>\n",
      "Int64Index: 2541 entries, 13 to 14279\n",
      "Columns: 292 entries, CLINICAL_PLAN_NO to ALLOW_TRC_CREATION_FLAG\n",
      "dtypes: datetime64[ns](7), float64(98), int64(41), object(146)\n",
      "memory usage: 5.7+ MB\n"
     ]
    },
    {
     "data": {
      "text/plain": [
       "([0, 1, 2, 3, 4, 5, 6, 7, 8], <a list of 9 Text xticklabel objects>)"
      ]
     },
     "execution_count": 6,
     "metadata": {},
     "output_type": "execute_result"
    },
    {
     "data": {
      "image/png": "[encoded data removed]",
      "text/plain": [
       "<Figure size 432x288 with 1 Axes>"
      ]
     },
     "metadata": {
      "needs_background": "light"
     },
     "output_type": "display_data"
    }
   ],
   "source": [
    "from matplotlib import pyplot as plt\n",
    "status = df['TRIAL_STATUS_DESC']\n",
    "\n",
    "closed = df[df['TRIAL_STATUS_DESC'] == 'Tentative']\n",
    "\n",
    "closed.info()\n",
    "plt.hist(status)\n",
    "plt.xticks(rotation=90)"
   ]
  },
  {
   "cell_type": "code",
   "execution_count": 8,
   "metadata": {},
   "outputs": [
    {
     "name": "stderr",
     "output_type": "stream",
     "text": [
      "..\n",
      "----------------------------------------------------------------------\n",
      "Ran 2 tests in 0.006s\n",
      "\n",
      "OK\n"
     ]
    },
    {
     "data": {
      "text/plain": [
       "<unittest.main.TestProgram at 0x1db71aae6c8>"
      ]
     },
     "execution_count": 8,
     "metadata": {},
     "output_type": "execute_result"
    }
   ],
   "source": [
    "from Employee import Employee\n",
    "import unittest\n",
    "\n",
    "class TestEmployee(unittest.TestCase):\n",
    "    def setUp(self):\n",
    "        self.my_employee = Employee('Karthik', 'Suresh', 8000)\n",
    "        \n",
    "    def test_give_default_raise(self):\n",
    "        self.my_employee.give_raise()\n",
    "        self.assertEqual(self.my_employee.salary, 13000)\n",
    "    def test_give_custom_raise(self):\n",
    "        self.my_employee.give_raise(10000)\n",
    "        self.assertEqual(self.my_employee.salary, 18000)\n",
    "\n",
    "unittest.main(argv=['first-arg-is-ignored'], exit=False)"
   ]
  }
 ],
 "metadata": {
  "kernelspec": {
   "display_name": "Python 3",
   "language": "python",
   "name": "python3"
  },
  "language_info": {
   "codemirror_mode": {
    "name": "ipython",
    "version": 3
   },
   "file_extension": ".py",
   "mimetype": "text/x-python",
   "name": "python",
   "nbconvert_exporter": "python",
   "pygments_lexer": "ipython3",
   "version": "3.7.4"
  }
 },
 "nbformat": 4,
 "nbformat_minor": 2
}
